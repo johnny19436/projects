{
  "nbformat": 4,
  "nbformat_minor": 0,
  "metadata": {
    "language_info": {
      "codemirror_mode": {
        "name": "ipython",
        "version": 3
      },
      "file_extension": ".py",
      "mimetype": "text/x-python",
      "name": "python",
      "nbconvert_exporter": "python",
      "pygments_lexer": "ipython3",
      "version": "3.8.5-final"
    },
    "orig_nbformat": 2,
    "kernelspec": {
      "name": "python3",
      "display_name": "Python 3",
      "language": "python"
    },
    "colab": {
      "name": "name.ipynb",
      "provenance": []
    },
    "accelerator": "GPU"
  },
  "cells": [
    {
      "cell_type": "code",
      "metadata": {
        "id": "ToITzJMlUl4y"
      },
      "source": [
        "import numpy as np\r\n",
        "import matplotlib.pyplot as plt\r\n",
        "import pandas as pd"
      ],
      "execution_count": 1,
      "outputs": []
    },
    {
      "cell_type": "code",
      "metadata": {
        "id": "LacVd03qczuG"
      },
      "source": [
        "from google.colab import files\r\n",
        "files.upload()"
      ],
      "execution_count": null,
      "outputs": []
    },
    {
      "cell_type": "code",
      "metadata": {
        "id": "W78GwvGCZm6W",
        "outputId": "1cd44998-9abd-44b0-917e-7b6a4a85fdf8",
        "colab": {
          "base_uri": "https://localhost:8080/",
          "height": 398
        }
      },
      "source": [
        "dataset_train=pd.read_csv('^VIX.csv')\r\n",
        "dataset_train"
      ],
      "execution_count": 3,
      "outputs": [
        {
          "output_type": "execute_result",
          "data": {
            "text/html": [
              "<div>\n",
              "<style scoped>\n",
              "    .dataframe tbody tr th:only-of-type {\n",
              "        vertical-align: middle;\n",
              "    }\n",
              "\n",
              "    .dataframe tbody tr th {\n",
              "        vertical-align: top;\n",
              "    }\n",
              "\n",
              "    .dataframe thead th {\n",
              "        text-align: right;\n",
              "    }\n",
              "</style>\n",
              "<table border=\"1\" class=\"dataframe\">\n",
              "  <thead>\n",
              "    <tr style=\"text-align: right;\">\n",
              "      <th></th>\n",
              "      <th>Date</th>\n",
              "      <th>Open</th>\n",
              "      <th>High</th>\n",
              "      <th>Low</th>\n",
              "      <th>Close</th>\n",
              "      <th>Adj Close</th>\n",
              "      <th>Volume</th>\n",
              "    </tr>\n",
              "  </thead>\n",
              "  <tbody>\n",
              "    <tr>\n",
              "      <th>0</th>\n",
              "      <td>2020-02-26</td>\n",
              "      <td>26.629999</td>\n",
              "      <td>29.570000</td>\n",
              "      <td>24.760000</td>\n",
              "      <td>27.559999</td>\n",
              "      <td>27.559999</td>\n",
              "      <td>0</td>\n",
              "    </tr>\n",
              "    <tr>\n",
              "      <th>1</th>\n",
              "      <td>2020-02-27</td>\n",
              "      <td>32.139999</td>\n",
              "      <td>39.310001</td>\n",
              "      <td>29.370001</td>\n",
              "      <td>39.160000</td>\n",
              "      <td>39.160000</td>\n",
              "      <td>0</td>\n",
              "    </tr>\n",
              "    <tr>\n",
              "      <th>2</th>\n",
              "      <td>2020-02-28</td>\n",
              "      <td>42.020000</td>\n",
              "      <td>49.480000</td>\n",
              "      <td>39.369999</td>\n",
              "      <td>40.110001</td>\n",
              "      <td>40.110001</td>\n",
              "      <td>0</td>\n",
              "    </tr>\n",
              "    <tr>\n",
              "      <th>3</th>\n",
              "      <td>2020-03-02</td>\n",
              "      <td>38.540001</td>\n",
              "      <td>40.410000</td>\n",
              "      <td>31.500000</td>\n",
              "      <td>33.419998</td>\n",
              "      <td>33.419998</td>\n",
              "      <td>0</td>\n",
              "    </tr>\n",
              "    <tr>\n",
              "      <th>4</th>\n",
              "      <td>2020-03-03</td>\n",
              "      <td>33.650002</td>\n",
              "      <td>41.060001</td>\n",
              "      <td>24.930000</td>\n",
              "      <td>36.820000</td>\n",
              "      <td>36.820000</td>\n",
              "      <td>0</td>\n",
              "    </tr>\n",
              "    <tr>\n",
              "      <th>...</th>\n",
              "      <td>...</td>\n",
              "      <td>...</td>\n",
              "      <td>...</td>\n",
              "      <td>...</td>\n",
              "      <td>...</td>\n",
              "      <td>...</td>\n",
              "      <td>...</td>\n",
              "    </tr>\n",
              "    <tr>\n",
              "      <th>248</th>\n",
              "      <td>2021-02-19</td>\n",
              "      <td>23.100000</td>\n",
              "      <td>23.190001</td>\n",
              "      <td>20.840000</td>\n",
              "      <td>22.049999</td>\n",
              "      <td>22.049999</td>\n",
              "      <td>0</td>\n",
              "    </tr>\n",
              "    <tr>\n",
              "      <th>249</th>\n",
              "      <td>2021-02-22</td>\n",
              "      <td>24.459999</td>\n",
              "      <td>25.090000</td>\n",
              "      <td>21.959999</td>\n",
              "      <td>23.450001</td>\n",
              "      <td>23.450001</td>\n",
              "      <td>0</td>\n",
              "    </tr>\n",
              "    <tr>\n",
              "      <th>250</th>\n",
              "      <td>2021-02-23</td>\n",
              "      <td>22.820000</td>\n",
              "      <td>27.010000</td>\n",
              "      <td>22.500000</td>\n",
              "      <td>23.110001</td>\n",
              "      <td>23.110001</td>\n",
              "      <td>0</td>\n",
              "    </tr>\n",
              "    <tr>\n",
              "      <th>251</th>\n",
              "      <td>2021-02-24</td>\n",
              "      <td>23.760000</td>\n",
              "      <td>25.040001</td>\n",
              "      <td>21.309999</td>\n",
              "      <td>21.340000</td>\n",
              "      <td>21.340000</td>\n",
              "      <td>0</td>\n",
              "    </tr>\n",
              "    <tr>\n",
              "      <th>252</th>\n",
              "      <td>2021-02-25</td>\n",
              "      <td>21.730000</td>\n",
              "      <td>31.160000</td>\n",
              "      <td>21.520000</td>\n",
              "      <td>28.889999</td>\n",
              "      <td>28.889999</td>\n",
              "      <td>0</td>\n",
              "    </tr>\n",
              "  </tbody>\n",
              "</table>\n",
              "<p>253 rows × 7 columns</p>\n",
              "</div>"
            ],
            "text/plain": [
              "           Date       Open       High        Low      Close  Adj Close  Volume\n",
              "0    2020-02-26  26.629999  29.570000  24.760000  27.559999  27.559999       0\n",
              "1    2020-02-27  32.139999  39.310001  29.370001  39.160000  39.160000       0\n",
              "2    2020-02-28  42.020000  49.480000  39.369999  40.110001  40.110001       0\n",
              "3    2020-03-02  38.540001  40.410000  31.500000  33.419998  33.419998       0\n",
              "4    2020-03-03  33.650002  41.060001  24.930000  36.820000  36.820000       0\n",
              "..          ...        ...        ...        ...        ...        ...     ...\n",
              "248  2021-02-19  23.100000  23.190001  20.840000  22.049999  22.049999       0\n",
              "249  2021-02-22  24.459999  25.090000  21.959999  23.450001  23.450001       0\n",
              "250  2021-02-23  22.820000  27.010000  22.500000  23.110001  23.110001       0\n",
              "251  2021-02-24  23.760000  25.040001  21.309999  21.340000  21.340000       0\n",
              "252  2021-02-25  21.730000  31.160000  21.520000  28.889999  28.889999       0\n",
              "\n",
              "[253 rows x 7 columns]"
            ]
          },
          "metadata": {
            "tags": []
          },
          "execution_count": 3
        }
      ]
    },
    {
      "cell_type": "code",
      "metadata": {
        "id": "8TuvPNSleh91"
      },
      "source": [
        "training_set = dataset_train.iloc[:, 1:2].values"
      ],
      "execution_count": 4,
      "outputs": []
    },
    {
      "cell_type": "code",
      "metadata": {
        "id": "AsmboiC9PDf6",
        "outputId": "dc693f05-49c1-4859-f814-40ac8190cf33",
        "colab": {
          "base_uri": "https://localhost:8080/"
        }
      },
      "source": [
        "training_set[1]"
      ],
      "execution_count": 15,
      "outputs": [
        {
          "output_type": "execute_result",
          "data": {
            "text/plain": [
              "array([32.139999])"
            ]
          },
          "metadata": {
            "tags": []
          },
          "execution_count": 15
        }
      ]
    },
    {
      "cell_type": "code",
      "metadata": {
        "id": "_84_R-suZmy_"
      },
      "source": [
        "from sklearn.preprocessing import MinMaxScaler\r\n",
        "sc = MinMaxScaler(feature_range = (0, 1))\r\n",
        "training_set_scaled = sc.fit_transform(training_set)"
      ],
      "execution_count": 5,
      "outputs": []
    },
    {
      "cell_type": "code",
      "metadata": {
        "id": "Dy3Nqc7kZmuw"
      },
      "source": [
        "X_train = []\r\n",
        "y_train = []\r\n",
        "for i in range(60, len(dataset_train)):\r\n",
        "    X_train.append(training_set_scaled[i-60:i, 0])\r\n",
        "    y_train.append(training_set_scaled[i, 0])\r\n",
        "X_train, y_train = np.array(X_train), np.array(y_train)\r\n",
        "\r\n",
        "X_train = np.reshape(X_train, (X_train.shape[0], X_train.shape[1], 1))"
      ],
      "execution_count": 6,
      "outputs": []
    },
    {
      "cell_type": "code",
      "metadata": {
        "id": "EXbwsZQxZmr-"
      },
      "source": [
        "from keras.models import Sequential\r\n",
        "from keras.layers import Dense\r\n",
        "from keras.layers import LSTM\r\n",
        "from keras.layers import Dropout"
      ],
      "execution_count": 7,
      "outputs": []
    },
    {
      "cell_type": "code",
      "metadata": {
        "id": "2isZQu7pZmpA"
      },
      "source": [
        "regressor = Sequential()\r\n",
        "\r\n",
        "regressor.add(LSTM(units = 50, return_sequences = True, input_shape = (X_train.shape[1], 1)))\r\n",
        "regressor.add(Dropout(0.2))\r\n",
        "\r\n",
        "regressor.add(LSTM(units = 50, return_sequences = True))\r\n",
        "regressor.add(Dropout(0.2))\r\n",
        "\r\n",
        "regressor.add(LSTM(units = 50, return_sequences = True))\r\n",
        "regressor.add(Dropout(0.2))\r\n",
        "\r\n",
        "regressor.add(LSTM(units = 50))\r\n",
        "regressor.add(Dropout(0.2))\r\n",
        "\r\n",
        "regressor.add(Dense(units = 1))\r\n",
        "\r\n",
        "regressor.compile(optimizer = 'adam', loss = 'mean_squared_error')\r\n",
        "\r\n",
        "regressor.fit(X_train, y_train, epochs = 100, batch_size = 32)"
      ],
      "execution_count": null,
      "outputs": []
    },
    {
      "cell_type": "code",
      "metadata": {
        "id": "2Xs4EjPBZmme"
      },
      "source": [
        "from google.colab import files\r\n",
        "files.upload()"
      ],
      "execution_count": null,
      "outputs": []
    },
    {
      "cell_type": "code",
      "metadata": {
        "id": "JRvvPbllZmj3"
      },
      "source": [
        "dataset_test = pd.read_csv('^VIX_2.csv')\r\n",
        "real_stock_price = dataset_test.iloc[:, 1:2].values"
      ],
      "execution_count": 10,
      "outputs": []
    },
    {
      "cell_type": "code",
      "metadata": {
        "id": "N1ySwlu2m727",
        "outputId": "c7c7d0d7-0b7e-4bdf-c1ae-d77a9662df26",
        "colab": {
          "base_uri": "https://localhost:8080/",
          "height": 398
        }
      },
      "source": [
        "dataset_test"
      ],
      "execution_count": 11,
      "outputs": [
        {
          "output_type": "execute_result",
          "data": {
            "text/html": [
              "<div>\n",
              "<style scoped>\n",
              "    .dataframe tbody tr th:only-of-type {\n",
              "        vertical-align: middle;\n",
              "    }\n",
              "\n",
              "    .dataframe tbody tr th {\n",
              "        vertical-align: top;\n",
              "    }\n",
              "\n",
              "    .dataframe thead th {\n",
              "        text-align: right;\n",
              "    }\n",
              "</style>\n",
              "<table border=\"1\" class=\"dataframe\">\n",
              "  <thead>\n",
              "    <tr style=\"text-align: right;\">\n",
              "      <th></th>\n",
              "      <th>Date</th>\n",
              "      <th>Open</th>\n",
              "      <th>High</th>\n",
              "      <th>Low</th>\n",
              "      <th>Close</th>\n",
              "      <th>Adj Close</th>\n",
              "      <th>Volume</th>\n",
              "    </tr>\n",
              "  </thead>\n",
              "  <tbody>\n",
              "    <tr>\n",
              "      <th>0</th>\n",
              "      <td>2007-12-26</td>\n",
              "      <td>19.370001</td>\n",
              "      <td>19.469999</td>\n",
              "      <td>18.600000</td>\n",
              "      <td>18.660000</td>\n",
              "      <td>18.660000</td>\n",
              "      <td>0</td>\n",
              "    </tr>\n",
              "    <tr>\n",
              "      <th>1</th>\n",
              "      <td>2007-12-27</td>\n",
              "      <td>19.150000</td>\n",
              "      <td>20.510000</td>\n",
              "      <td>19.150000</td>\n",
              "      <td>20.260000</td>\n",
              "      <td>20.260000</td>\n",
              "      <td>0</td>\n",
              "    </tr>\n",
              "    <tr>\n",
              "      <th>2</th>\n",
              "      <td>2007-12-28</td>\n",
              "      <td>19.590000</td>\n",
              "      <td>21.049999</td>\n",
              "      <td>19.440001</td>\n",
              "      <td>20.740000</td>\n",
              "      <td>20.740000</td>\n",
              "      <td>0</td>\n",
              "    </tr>\n",
              "    <tr>\n",
              "      <th>3</th>\n",
              "      <td>2007-12-31</td>\n",
              "      <td>21.870001</td>\n",
              "      <td>22.750000</td>\n",
              "      <td>21.790001</td>\n",
              "      <td>22.500000</td>\n",
              "      <td>22.500000</td>\n",
              "      <td>0</td>\n",
              "    </tr>\n",
              "    <tr>\n",
              "      <th>4</th>\n",
              "      <td>2008-01-02</td>\n",
              "      <td>22.580000</td>\n",
              "      <td>24.049999</td>\n",
              "      <td>22.400000</td>\n",
              "      <td>23.170000</td>\n",
              "      <td>23.170000</td>\n",
              "      <td>0</td>\n",
              "    </tr>\n",
              "    <tr>\n",
              "      <th>...</th>\n",
              "      <td>...</td>\n",
              "      <td>...</td>\n",
              "      <td>...</td>\n",
              "      <td>...</td>\n",
              "      <td>...</td>\n",
              "      <td>...</td>\n",
              "      <td>...</td>\n",
              "    </tr>\n",
              "    <tr>\n",
              "      <th>393</th>\n",
              "      <td>2009-07-20</td>\n",
              "      <td>25.059999</td>\n",
              "      <td>25.420000</td>\n",
              "      <td>24.260000</td>\n",
              "      <td>24.400000</td>\n",
              "      <td>24.400000</td>\n",
              "      <td>0</td>\n",
              "    </tr>\n",
              "    <tr>\n",
              "      <th>394</th>\n",
              "      <td>2009-07-21</td>\n",
              "      <td>24.280001</td>\n",
              "      <td>25.139999</td>\n",
              "      <td>23.809999</td>\n",
              "      <td>23.870001</td>\n",
              "      <td>23.870001</td>\n",
              "      <td>0</td>\n",
              "    </tr>\n",
              "    <tr>\n",
              "      <th>395</th>\n",
              "      <td>2009-07-22</td>\n",
              "      <td>24.049999</td>\n",
              "      <td>24.139999</td>\n",
              "      <td>23.240000</td>\n",
              "      <td>23.469999</td>\n",
              "      <td>23.469999</td>\n",
              "      <td>0</td>\n",
              "    </tr>\n",
              "    <tr>\n",
              "      <th>396</th>\n",
              "      <td>2009-07-23</td>\n",
              "      <td>23.709999</td>\n",
              "      <td>24.049999</td>\n",
              "      <td>23.209999</td>\n",
              "      <td>23.430000</td>\n",
              "      <td>23.430000</td>\n",
              "      <td>0</td>\n",
              "    </tr>\n",
              "    <tr>\n",
              "      <th>397</th>\n",
              "      <td>2009-07-24</td>\n",
              "      <td>23.870001</td>\n",
              "      <td>23.870001</td>\n",
              "      <td>23.000000</td>\n",
              "      <td>23.090000</td>\n",
              "      <td>23.090000</td>\n",
              "      <td>0</td>\n",
              "    </tr>\n",
              "  </tbody>\n",
              "</table>\n",
              "<p>398 rows × 7 columns</p>\n",
              "</div>"
            ],
            "text/plain": [
              "           Date       Open       High        Low      Close  Adj Close  Volume\n",
              "0    2007-12-26  19.370001  19.469999  18.600000  18.660000  18.660000       0\n",
              "1    2007-12-27  19.150000  20.510000  19.150000  20.260000  20.260000       0\n",
              "2    2007-12-28  19.590000  21.049999  19.440001  20.740000  20.740000       0\n",
              "3    2007-12-31  21.870001  22.750000  21.790001  22.500000  22.500000       0\n",
              "4    2008-01-02  22.580000  24.049999  22.400000  23.170000  23.170000       0\n",
              "..          ...        ...        ...        ...        ...        ...     ...\n",
              "393  2009-07-20  25.059999  25.420000  24.260000  24.400000  24.400000       0\n",
              "394  2009-07-21  24.280001  25.139999  23.809999  23.870001  23.870001       0\n",
              "395  2009-07-22  24.049999  24.139999  23.240000  23.469999  23.469999       0\n",
              "396  2009-07-23  23.709999  24.049999  23.209999  23.430000  23.430000       0\n",
              "397  2009-07-24  23.870001  23.870001  23.000000  23.090000  23.090000       0\n",
              "\n",
              "[398 rows x 7 columns]"
            ]
          },
          "metadata": {
            "tags": []
          },
          "execution_count": 11
        }
      ]
    },
    {
      "cell_type": "code",
      "metadata": {
        "id": "Xb6mpMJBZmhQ"
      },
      "source": [
        "dataset_total = pd.concat((dataset_train['Open'], dataset_test['Open']), axis = 0)\r\n",
        "inputs = dataset_total[len(dataset_total) - len(dataset_test) - 60:].values\r\n",
        "inputs = inputs.reshape(-1,1)\r\n",
        "inputs = sc.transform(inputs)\r\n",
        "X_test = []\r\n",
        "for i in range(60, len(dataset_test)):\r\n",
        "    X_test.append(inputs[i-60:i, 0])\r\n",
        "X_test = np.array(X_test)\r\n",
        "X_test = np.reshape(X_test, (X_test.shape[0], X_test.shape[1], 1))\r\n",
        "predicted_stock_price = regressor.predict(X_test)\r\n",
        "predicted_stock_price = sc.inverse_transform(predicted_stock_price)"
      ],
      "execution_count": 12,
      "outputs": []
    },
    {
      "cell_type": "code",
      "metadata": {
        "id": "SOpbVpRZZmev",
        "outputId": "afd25bd7-b911-4743-e7ea-24db412d077f",
        "colab": {
          "base_uri": "https://localhost:8080/",
          "height": 294
        }
      },
      "source": [
        "plt.plot(real_stock_price, color = 'black', label = 'TATA Stock Price')\r\n",
        "plt.plot(predicted_stock_price, color = 'green', label = 'Predicted TATA Stock Price')\r\n",
        "plt.title('TATA Stock Price Prediction')\r\n",
        "plt.xlabel('Time')\r\n",
        "plt.ylabel('TATA Stock Price')\r\n",
        "plt.legend()\r\n",
        "plt.show()"
      ],
      "execution_count": 13,
      "outputs": [
        {
          "output_type": "display_data",
          "data": {
            "image/png": "[encoded data removed]",
            "text/plain": [
              "<Figure size 432x288 with 1 Axes>"
            ]
          },
          "metadata": {
            "tags": [],
            "needs_background": "light"
          }
        }
      ]
    },
    {
      "cell_type": "code",
      "metadata": {
        "id": "d4ahQ68lZmcS"
      },
      "source": [
        ""
      ],
      "execution_count": 13,
      "outputs": []
    },
    {
      "cell_type": "code",
      "metadata": {
        "id": "jvb69G7cZmZu"
      },
      "source": [
        ""
      ],
      "execution_count": 13,
      "outputs": []
    },
    {
      "cell_type": "code",
      "metadata": {
        "id": "6qaQVJ_5ZmXP"
      },
      "source": [
        ""
      ],
      "execution_count": 13,
      "outputs": []
    }
  ]
}